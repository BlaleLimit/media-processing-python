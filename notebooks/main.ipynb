{
 "cells": [
  {
   "attachments": {},
   "cell_type": "markdown",
   "id": "9412b2ec",
   "metadata": {},
   "source": [
    "# MEDIA PROCESSING PYTHON"
   ]
  },
  {
   "attachments": {},
   "cell_type": "markdown",
   "id": "75dbce2a",
   "metadata": {},
   "source": [
    "A simple Jupyter Notebook contaning the image, audio, and video conversion and processing methods."
   ]
  },
  {
   "attachments": {},
   "cell_type": "markdown",
   "id": "b0859250",
   "metadata": {},
   "source": [
    "## IMAGE FORMAT CONVERSION"
   ]
  },
  {
   "attachments": {},
   "cell_type": "markdown",
   "id": "af7964bc",
   "metadata": {},
   "source": [
    "### IMAGE TO ICO FILE"
   ]
  },
  {
   "cell_type": "code",
   "execution_count": null,
   "id": "86851924",
   "metadata": {},
   "outputs": [],
   "source": [
    "from PIL import Image\n",
    "\n",
    "# INPUTS\n",
    "in_file = r'../inputs/input.png'\n",
    "out_file = r'../outputs/output.ico'\n",
    "size = 64   # recommended sizes -> sizes=[(16, 16), (24, 24), (32, 32), (48, 48), (64, 64), (128, 128), (256, 256)])\n",
    "\n",
    "# PROCESS\n",
    "img = Image.open(in_file)\n",
    "img.save(out_file, sizes=[(size, size)])"
   ]
  },
  {
   "attachments": {},
   "cell_type": "markdown",
   "id": "2c71f57c",
   "metadata": {},
   "source": [
    "### CENTERED IMAGE TO ICO FILE"
   ]
  },
  {
   "cell_type": "code",
   "execution_count": null,
   "id": "fddd6126",
   "metadata": {},
   "outputs": [],
   "source": [
    "from PIL import Image\n",
    "\n",
    "# INPUTS\n",
    "in_file = r'../inputs/input.png'\n",
    "out_file = r'../outputs/output.ico'\n",
    "size = 64   # recommended sizes -> sizes=[(16, 16), (24, 24), (32, 32), (48, 48), (64, 64), (128, 128), (256, 256)])\n",
    "\n",
    "# PROCESS\n",
    "img = Image.open(in_file)\n",
    "x, y = img.size\n",
    "z = abs(int((x - y) / 2))\n",
    "\n",
    "# set dimensions equal by resizing\n",
    "if x < y:\n",
    "    img = img.resize(size=(x, x), resample=4, box=(0, z, x, x + z), reducing_gap=None)\n",
    "elif x > y:\n",
    "    img = img.resize(size=(y, y), resample=4, box=(z, 0, y + z, y), reducing_gap=None)\n",
    "\n",
    "# resize if too small\n",
    "if min(img.size) < size:\n",
    "    img = img.resize(size=(size, size), resample=2, box=None, reducing_gap=None)\n",
    "\n",
    "img.save(out_file, sizes=[(size, size)])"
   ]
  },
  {
   "attachments": {},
   "cell_type": "markdown",
   "id": "52a7bcbe",
   "metadata": {},
   "source": [
    "## WEBP TO PNG FILE"
   ]
  },
  {
   "cell_type": "code",
   "execution_count": null,
   "id": "553f16e2",
   "metadata": {},
   "outputs": [],
   "source": [
    "from PIL import Image\n",
    "\n",
    "# INPUTS\n",
    "in_file = r'../inputs/input.webp'\n",
    "out_file = r'../outputs/output.png'\n",
    "\n",
    "# PROCESS\n",
    "img = Image.open(in_file)   # .convert('RGB')\n",
    "img.save(out_file, 'png')"
   ]
  },
  {
   "attachments": {},
   "cell_type": "markdown",
   "id": "3a33e72e",
   "metadata": {},
   "source": [
    "## PNG TO BMP"
   ]
  },
  {
   "cell_type": "code",
   "execution_count": 4,
   "id": "774c18f3",
   "metadata": {},
   "outputs": [],
   "source": [
    "from PIL import Image\n",
    "\n",
    "# INPUTS\n",
    "in_file = r'../inputs/input.png'\n",
    "out_file = r'../outputs/output.bmp'\n",
    "\n",
    "# PROCESS\n",
    "img = Image.open(in_file)\n",
    "img.save(out_file, 'bmp')"
   ]
  },
  {
   "attachments": {},
   "cell_type": "markdown",
   "id": "e608e5ff",
   "metadata": {},
   "source": [
    "## BATCH PNG TO PDF"
   ]
  },
  {
   "cell_type": "code",
   "execution_count": 22,
   "id": "94e9ab3c",
   "metadata": {},
   "outputs": [],
   "source": [
    "import os\n",
    "from PIL import Image\n",
    "\n",
    "# INPUTS\n",
    "folder = '../inputs/'\n",
    "resolution = 100\n",
    "n_files = 10\n",
    "in_file = 'input-'\n",
    "out_file = 'output-'\n",
    "\n",
    "# PROCESS\n",
    "for x in range(1, n_files):\n",
    "    inf = in_file + str(x)\n",
    "    outf = out_file + str(x)\n",
    "    with Image.open(f'{os.path.join(folder, inf)}.png') as image:\n",
    "        image = image.convert('RGB')\n",
    "        image.save(f'{os.path.join(folder, outf)}.pdf', 'pdf', resolution=resolution)"
   ]
  },
  {
   "attachments": {},
   "cell_type": "markdown",
   "id": "fcaf14fd",
   "metadata": {},
   "source": [
    "# IMAGE PROCESSING"
   ]
  },
  {
   "attachments": {},
   "cell_type": "markdown",
   "id": "9c183303",
   "metadata": {},
   "source": [
    "#### MERGE IMAGES"
   ]
  },
  {
   "cell_type": "code",
   "execution_count": null,
   "id": "42dc1291",
   "metadata": {},
   "outputs": [],
   "source": [
    "from PIL import Image\n",
    "\n",
    "def fix_size(im, desired_w=512, desired_h=512, fill_color=(0, 0, 0, 255)):\n",
    "    x, y = im.size\n",
    "\n",
    "    ratio = x / y\n",
    "    desired_ratio = desired_w / desired_h\n",
    "\n",
    "    w = max(desired_w, x)\n",
    "    h = int(w / desired_ratio)\n",
    "    if h < y:\n",
    "        h = y\n",
    "        w = int(h * desired_ratio)\n",
    "\n",
    "    new_im = Image.new('RGBA', (w, h), fill_color)\n",
    "    new_im.paste(im, ((w - x) // 2, (h - y) // 2))\n",
    "    return new_im.resize((desired_w, desired_h))\n",
    "\n",
    "# Take R, G, and B values of first image\n",
    "img1 = Image.open('../inputs/input1.png')\n",
    "img1 = img1.convert('RGBA')\n",
    "# img1 = fix_size(img1)\n",
    "r, g, b, _ = img1.split()\n",
    "# display(img1)\n",
    "\n",
    "# Second image will be the mask\n",
    "img2 = Image.open('../inputs/input2.png')\n",
    "img2 = img2.convert('L')\n",
    "# display(image2_)\n",
    "\n",
    "img3 = Image.merge('RGBA', [r, g, b, img2])\n",
    "img3.save('../outputs/output.png')\n",
    "display(img3)"
   ]
  },
  {
   "attachments": {},
   "cell_type": "markdown",
   "id": "07289e84",
   "metadata": {},
   "source": [
    "### IMAGE FILTER"
   ]
  },
  {
   "cell_type": "code",
   "execution_count": null,
   "id": "a4e78cc7",
   "metadata": {},
   "outputs": [],
   "source": [
    "from PIL import Image, ImageFilter\n",
    "\n",
    "\"\"\"\n",
    "Image Filters: Find Edges\n",
    "\"\"\"\n",
    "\n",
    "# INPUTS\n",
    "in_file = '../inputs/input.png'\n",
    "out_file = '../outputs/output.png'\n",
    "\n",
    "# PROCESS\n",
    "img = Image.open(in_file)\n",
    "img = image.convert('L')\n",
    "img.save(out_file)\n",
    "display(img.filter(ImageFilter.FIND_EDGES))"
   ]
  },
  {
   "attachments": {},
   "cell_type": "markdown",
   "id": "d2adbed3",
   "metadata": {},
   "source": [
    "## IMAGE COLORIZATION"
   ]
  },
  {
   "cell_type": "code",
   "execution_count": null,
   "id": "12871715",
   "metadata": {},
   "outputs": [],
   "source": [
    "from PIL import Image, ImageOps\n",
    "from numpy.random import choice\n",
    "import pathlib\n",
    "\n",
    "\"\"\"\n",
    "Colorize multiple images, in this case the method can be used to colorize video frames.\n",
    "\"\"\"\n",
    "\n",
    "# INPUTS\n",
    "in_folder = '../inputs'\n",
    "out_folder = '../outputs'\n",
    "\n",
    "# Randomize the colorization\n",
    "color_list = ['black', 'white', 'red', 'blue', 'green']\n",
    "\n",
    "# PROCESS\n",
    "for index, input_img in enumerate(pathlib.Path(in_folder).iterdir()):\n",
    "    cc = choice(color_list, size=2, replace=False)\n",
    "    output_img = str(input_img).replace(in_folder, out_folder)\n",
    "    with Image.open(input_img) as image:\n",
    "        image = image.convert('L')\n",
    "        image = ImageOps.colorize(image, cc[0], cc[1], mid=None, \n",
    "            blackpoint=0, whitepoint=255, midpoint=127)\n",
    "        image.save(output_img, 'JPEG', dpi=(300, 300))"
   ]
  },
  {
   "attachments": {},
   "cell_type": "markdown",
   "id": "d4f87adc",
   "metadata": {},
   "source": [
    "# FFMPEG-PYTHON"
   ]
  },
  {
   "attachments": {},
   "cell_type": "markdown",
   "id": "1f971ed7",
   "metadata": {},
   "source": [
    "## MEDIA CONVERSION"
   ]
  },
  {
   "attachments": {},
   "cell_type": "markdown",
   "id": "bb65ad98",
   "metadata": {},
   "source": [
    "### VIDEO FORMAT CONVERSION"
   ]
  },
  {
   "attachments": {},
   "cell_type": "markdown",
   "id": "67cfb697",
   "metadata": {},
   "source": [
    "#### MKV TO MP4"
   ]
  },
  {
   "cell_type": "code",
   "execution_count": null,
   "id": "e6877c21",
   "metadata": {},
   "outputs": [],
   "source": [
    "import ffmpeg\n",
    "\n",
    "# INPUTS\n",
    "in_file = '../inputs/input.mkv'\n",
    "out_file = '..outputs/output.mp4'\n",
    "\n",
    "# PROCESS\n",
    "(\n",
    "    ffmpeg\n",
    "    .input(in_file)\n",
    "    .output(out_file, vcodec='copy')\n",
    "    .run(overwrite_output=True, cmd='ffmpeg.exe')\n",
    ")"
   ]
  },
  {
   "attachments": {},
   "cell_type": "markdown",
   "id": "c2e88d5d",
   "metadata": {},
   "source": [
    "#### VIDEO TO GIF"
   ]
  },
  {
   "cell_type": "code",
   "execution_count": null,
   "id": "f6b9fb31",
   "metadata": {},
   "outputs": [],
   "source": [
    "import ffmpeg\n",
    "\n",
    "# EXAMPLE\n",
    "# start_time -> start time; duration -> duration of gif; fps -> frames per second; scale -> height\n",
    "\n",
    "# INPUTS\n",
    "start_time, duration, fps, scale = [10.3, 1.5, 20, 960]\n",
    "in_file = '../inputs/input.mp4'\n",
    "out_file = '../outputs/output.gif'\n",
    "\n",
    "# PROCESS\n",
    "(\n",
    "    ffmpeg\n",
    "    .input(in_file)\n",
    "    .output(out_file, ss=start_time, t=duration, loop=0,\n",
    "        vf=f'fps={fps},scale={scale}:-1:flags=lanczos,split[s0][s1];[s0]palettegen[p];[s1][p]paletteuse')\n",
    "    .run(overwrite_output=True, cmd='ffmpeg.exe')\n",
    ")"
   ]
  },
  {
   "attachments": {},
   "cell_type": "markdown",
   "id": "5c8dd452",
   "metadata": {},
   "source": [
    "### AUDIO FORMAT CONVERSION"
   ]
  },
  {
   "cell_type": "code",
   "execution_count": null,
   "id": "f4fdbb51",
   "metadata": {},
   "outputs": [],
   "source": [
    "import ffmpeg\n",
    "\n",
    "# INPUTS\n",
    "in_file = '../inputs/input.m4a'\n",
    "out_file = '../outputs/output.wav'\n",
    "\n",
    "# PROCESS\n",
    "(\n",
    "    ffmpeg\n",
    "    .input(in_file)\n",
    "    .output(out_file, ar=44100)\n",
    "    .run(overwrite_output=True, cmd='ffmpeg.exe')\n",
    ")"
   ]
  },
  {
   "attachments": {},
   "cell_type": "markdown",
   "id": "626471be",
   "metadata": {},
   "source": [
    "### LOWER VIDEO SIZE"
   ]
  },
  {
   "cell_type": "code",
   "execution_count": null,
   "id": "94d09785",
   "metadata": {},
   "outputs": [],
   "source": [
    "import ffmpeg\n",
    "\n",
    "# INPUTS\n",
    "in_file = '../inputs/input.mp4'\n",
    "out_file = '../outputs/output.mp4'\n",
    "\n",
    "# PROCESS\n",
    "(\n",
    "    ffmpeg\n",
    "    .input(in_file)\n",
    "    .output(out_file, vcodec='libx265', crf=28) # HEVC codec with crf=28 to lower video size\n",
    "    .run(overwrite_output=True, cmd='ffmpeg.exe')\n",
    ")"
   ]
  },
  {
   "attachments": {},
   "cell_type": "markdown",
   "id": "bf690005",
   "metadata": {},
   "source": [
    "## MEDIA EDITING"
   ]
  },
  {
   "attachments": {},
   "cell_type": "markdown",
   "id": "90cb712b",
   "metadata": {},
   "source": [
    "### MEDIA SNAPSHOT"
   ]
  },
  {
   "cell_type": "code",
   "execution_count": null,
   "id": "50c146ef",
   "metadata": {},
   "outputs": [],
   "source": [
    "import ffmpeg\n",
    "\n",
    "# INPUTS\n",
    "in_file = '../inputs/input.mp4'\n",
    "out_file = '../outputs/output.jpg'\n",
    "time = '00:00:20'\n",
    "\n",
    "# FFPROBE\n",
    "streams = ffmpeg.probe(in_file)\n",
    "total_duration = float(ffmpeg.probe(in_file)['format']['duration'])\n",
    "\n",
    "# PROCESS\n",
    "if 'video' in streams:\n",
    "    if time < 0 or time > total_duration:\n",
    "        print('Offset time is not within the video bounds')\n",
    "    else:\n",
    "        width, height = [streams['streams']['width'], streams['streams']['height']]\n",
    "        outputs = dict(filename=f'{out_file}.jpg', vframes=1, ss=time,\n",
    "            **{'qscale:v': 2, 'filter:v' : f'scale={width}:{height}'})\n",
    "        (\n",
    "            ffmpeg\n",
    "            .input(in_file)\n",
    "            .output(**outputs)\n",
    "            .run(overwrite_output=True, cmd='ffmpeg.exe')\n",
    "        )\n",
    "else:\n",
    "    print('No video found in stream')"
   ]
  },
  {
   "attachments": {},
   "cell_type": "markdown",
   "id": "6ad587d0",
   "metadata": {},
   "source": [
    "### ALL FRAMES SNAPSHOT"
   ]
  },
  {
   "cell_type": "code",
   "execution_count": null,
   "id": "7486c89a",
   "metadata": {},
   "outputs": [],
   "source": [
    "import ffmpeg\n",
    "\n",
    "# INPUTS\n",
    "in_file = '../inputs/input.mp4'\n",
    "out_file = '../outputs/output-%05d.bmp'\n",
    "\n",
    "# PROCESS\n",
    "(\n",
    "    ffmpeg\n",
    "    .input(in_file)\n",
    "    .output(out_file, **{'qscale:v': 2})\n",
    "    .run(overwrite_output=True, cmd='ffmpeg.exe')\n",
    ")"
   ]
  },
  {
   "attachments": {},
   "cell_type": "markdown",
   "id": "74fa4033",
   "metadata": {},
   "source": [
    "### MEDIA TRIMMING"
   ]
  },
  {
   "cell_type": "code",
   "execution_count": null,
   "id": "5d678678",
   "metadata": {},
   "outputs": [],
   "source": [
    "import ffmpeg\n",
    "\n",
    "# INPUTS\n",
    "time_a, time_b = [0, 5] # start time and end time of trimmed media\n",
    "in_file = '../inputs/input.m4a'\n",
    "out_file = '../outputs/output.m4a'\n",
    "\n",
    "# PROCESS\n",
    "(\n",
    "    ffmpeg\n",
    "    .input(in_file)\n",
    "    .output(out_file, ar=44100, vcodec='libx264', acodec='copy', ss=time_a, to=time_b)\n",
    "    .run(overwrite_output=True, cmd='ffmpeg.exe')\n",
    ")"
   ]
  },
  {
   "attachments": {},
   "cell_type": "markdown",
   "id": "5161d818",
   "metadata": {},
   "source": [
    "### MEDIA MERGING"
   ]
  },
  {
   "attachments": {},
   "cell_type": "markdown",
   "id": "2c03371b",
   "metadata": {},
   "source": [
    "#### MERGE AUDIO CODECS"
   ]
  },
  {
   "cell_type": "code",
   "execution_count": null,
   "id": "e3234a91",
   "metadata": {},
   "outputs": [],
   "source": [
    "import ffmpeg\n",
    "\n",
    "# INPUTS\n",
    "in_file_audio_a = '../inputs/input_a.mp3'\n",
    "in_file_audio_b = '../inputs/input_b.m4a'\n",
    "out_file = '../outputs/output.m4a'\n",
    "\n",
    "# PROCESS\n",
    "try:\n",
    "    (\n",
    "        ffmpeg\n",
    "        .input(in_file_audio_a)\n",
    "        .output(out_file, filter_complex='[0:0][1:0]concat=n=2:v=0:a=1[out]', map='[out]', acodec='aac')\n",
    "        .global_args('-i', in_file_audio_b)\n",
    "        .run(overwrite_output=True, cmd='ffmpeg.exe', capture_stdout=True, capture_stderr=True)\n",
    "    )\n",
    "except ffmpeg.Error as e:\n",
    "    print('stdout:', e.stdout.decode('utf8'))\n",
    "    print('stderr:', e.stderr.decode('utf8'))"
   ]
  },
  {
   "attachments": {},
   "cell_type": "markdown",
   "id": "3918482a",
   "metadata": {},
   "source": [
    "#### MERGE VIDEO CODECS"
   ]
  },
  {
   "cell_type": "code",
   "execution_count": null,
   "id": "95ff224d",
   "metadata": {},
   "outputs": [],
   "source": [
    "import ffmpeg\n",
    "\n",
    "# INPUTS\n",
    "in_file_audio_a = '../inputs/input_a.mp4'\n",
    "in_file_audio_b = '../inputs/input_b.mp4'\n",
    "in_file_audio_c = '../inputs/input_c.mp4'\n",
    "out_file = '../outputs/output.mp4'\n",
    "\n",
    "# PROCESS\n",
    "try:\n",
    "    (\n",
    "        ffmpeg\n",
    "        .input(in_file_audio_a)\n",
    "        .output(out_file, filter_complex='concat=n=3:v=1:a=1', vcodec='libx264', preset='fast')\n",
    "        .global_args('-i', in_file_audio_b, '-i', in_file_audio_c)\n",
    "        .overwrite_output()\n",
    "        .run(overwrite_output=True, cmd='ffmpeg.exe', capture_stdout=True, capture_stderr=True)\n",
    "    )\n",
    "except ffmpeg.Error as e:\n",
    "    print('stdout:', e.stdout.decode('utf8'))\n",
    "    print('stderr:', e.stderr.decode('utf8'))"
   ]
  },
  {
   "attachments": {},
   "cell_type": "markdown",
   "id": "d032d2db",
   "metadata": {},
   "source": [
    "#### MERGE VIDEO AND AUDIO"
   ]
  },
  {
   "cell_type": "code",
   "execution_count": null,
   "id": "da348d0f",
   "metadata": {},
   "outputs": [],
   "source": [
    "import ffmpeg\n",
    "\n",
    "# INPUTS\n",
    "in_file_video = ffmpeg.input('../inputs/input.mp4')\n",
    "in_file_audio = ffmpeg.input('../inputs/input.wav')\n",
    "out_file = '../outputs/output.mp4'\n",
    "\n",
    "# PROCESS\n",
    "try:\n",
    "    (\n",
    "        ffmpeg\n",
    "        .output(in_file_video.video, in_file_audio.audio, out_file, acodec='aac', shortest=None, vcodec='copy')\n",
    "        .run(overwrite_output=True, cmd='ffmpeg.exe', capture_stdout=True, capture_stderr=True)\n",
    "    )\n",
    "except ffmpeg.Error as e:\n",
    "    print('stdout:', e.stdout.decode('utf8'))\n",
    "    print('stderr:', e.stderr.decode('utf8'))"
   ]
  },
  {
   "attachments": {},
   "cell_type": "markdown",
   "id": "427215ac",
   "metadata": {},
   "source": [
    "### SPEED UP MEDIA"
   ]
  },
  {
   "attachments": {},
   "cell_type": "markdown",
   "id": "e1e53655",
   "metadata": {},
   "source": [
    "#### SPEED UP VIDEO"
   ]
  },
  {
   "cell_type": "code",
   "execution_count": null,
   "id": "e66883cf",
   "metadata": {},
   "outputs": [],
   "source": [
    "import ffmpeg\n",
    "\n",
    "# INPUTS\n",
    "in_file = '../inputs/input.mkv'\n",
    "out_file = '../outputs/output.mkv'\n",
    "speed_factor = 2\n",
    "\n",
    "# PROCESS\n",
    "try:\n",
    "    (\n",
    "        ffmpeg\n",
    "        .input(in_file)\n",
    "        .output(out_file, filter_complex=f'[0:v]setpts=1/{speed_factor}*PTS[v]', map='[v]')\n",
    "        .run(overwrite_output=True, cmd='ffmpeg.exe', capture_stdout=True, capture_stderr=True)\n",
    "    )\n",
    "except ffmpeg.Error as e:\n",
    "    print('stdout:', e.stdout.decode('utf8'))\n",
    "    print('stderr:', e.stderr.decode('utf8'))"
   ]
  },
  {
   "attachments": {},
   "cell_type": "markdown",
   "id": "6dfed98f",
   "metadata": {},
   "source": [
    "#### SPEED UP AUDIO"
   ]
  },
  {
   "cell_type": "code",
   "execution_count": null,
   "id": "a25471dc",
   "metadata": {},
   "outputs": [],
   "source": [
    "import ffmpeg\n",
    "\n",
    "# INPUTS\n",
    "in_file = '../inputs/input.m4a'\n",
    "out_file = '../outputs/output.m4a'\n",
    "speed_factor = 2\n",
    "\n",
    "# PROCESS\n",
    "try:\n",
    "    (\n",
    "        ffmpeg\n",
    "        .input(in_file)\n",
    "        .output(out_file, filter_complex=f'[0:a]atempo={speed_factor}[a]', map='[a]')\n",
    "        .run(overwrite_output=True, cmd='ffmpeg.exe', capture_stdout=True, capture_stderr=True)\n",
    "    )\n",
    "except ffmpeg.Error as e:\n",
    "    print('stdout:', e.stdout.decode('utf8'))\n",
    "    print('stderr:', e.stderr.decode('utf8'))"
   ]
  },
  {
   "attachments": {},
   "cell_type": "markdown",
   "id": "5fbf8072",
   "metadata": {},
   "source": [
    "#### SPEED UP AUDIO AND VIDEO"
   ]
  },
  {
   "cell_type": "code",
   "execution_count": null,
   "id": "e738bf47",
   "metadata": {},
   "outputs": [],
   "source": [
    "import ffmpeg\n",
    "\n",
    "# INPUTS\n",
    "in_file = '../inputs/input.mp4'\n",
    "out_file = '../outputs/output.mkv'\n",
    "speed_factor = 2\n",
    "\n",
    "# PROCESS\n",
    "try:\n",
    "    (\n",
    "        ffmpeg\n",
    "        .input(in_file)\n",
    "        .output(out_file,filter_complex=f'atempo={speed_factor};setpts=PTS*1/{speed_factor}')\n",
    "        .run(overwrite_output=True, cmd='ffmpeg.exe', capture_stdout=True, capture_stderr=True)\n",
    "    )\n",
    "except ffmpeg.Error as e:\n",
    "    print('stdout:', e.stdout.decode('utf8'))\n",
    "    print('stderr:', e.stderr.decode('utf8'))"
   ]
  },
  {
   "attachments": {},
   "cell_type": "markdown",
   "id": "f419040a",
   "metadata": {},
   "source": [
    "### MEDIA LOOPING"
   ]
  },
  {
   "attachments": {},
   "cell_type": "markdown",
   "id": "841381f6",
   "metadata": {},
   "source": [
    "#### AUDIO LOOPING"
   ]
  },
  {
   "cell_type": "code",
   "execution_count": null,
   "id": "d5e05dd8",
   "metadata": {},
   "outputs": [],
   "source": [
    "import ffmpeg\n",
    "\n",
    "# INPUTS\n",
    "in_file = '../inputs/input.m4a'\n",
    "out_file = '../outputs/output.m4a'\n",
    "n_loops = 5 # number of loops (-1 is infinite)\n",
    "start_time = 0 # start time of trimmed audio\n",
    "start_loop = 20 # start time of looped audio\n",
    "end_loop = 160 # end time of looped audio\n",
    "end_time = 170 # end time of trimmed audio\n",
    "\n",
    "# PROCESS\n",
    "try:\n",
    "    (\n",
    "        ffmpeg\n",
    "        .input(in_file)\n",
    "        .output(out_file, filter_complex=f'''[0:a]atrim={start_time}:{end_time},\n",
    "            asetpts=PTS-STARTPTS,asetrate=44100,\n",
    "            aloop=loop={n_loops-1}:start={start_loop-start_time}*44100:size={end_loop-start_loop}*44100[outa]''',\n",
    "            map=\"[outa]\", acodec='aac')\n",
    "        .run(overwrite_output=True, cmd='ffmpeg.exe', capture_stdout=True, capture_stderr=True)\n",
    "    )\n",
    "except ffmpeg.Error as e:\n",
    "    print('stdout:', e.stdout.decode('utf8'))\n",
    "    print('stderr:', e.stderr.decode('utf8'))"
   ]
  },
  {
   "attachments": {},
   "cell_type": "markdown",
   "id": "ead9cb94",
   "metadata": {},
   "source": [
    "### VIDEO EFFECTS"
   ]
  },
  {
   "attachments": {},
   "cell_type": "markdown",
   "id": "54a3ce0d",
   "metadata": {},
   "source": [
    "#### HORIZONTAL AND VERTICAL FLIP"
   ]
  },
  {
   "cell_type": "code",
   "execution_count": null,
   "id": "53d4a44a",
   "metadata": {},
   "outputs": [],
   "source": [
    "import ffmpeg\n",
    "\n",
    "# EXAMPLES\n",
    "# ex. ffmpeg.output('output.mp4', filter_complex='hflip') # horizontally flips video, mirror\n",
    "# ex. filter_complex='hflip,hflip') # horizontally flips video twice\n",
    "# ex. filter_complex='vflip,hflip') # complete rotation of the video\n",
    "# ex. filter_complex='hue=s=-5') # modifies the hue saturation=-5 # default (hue=h=0:s=1:H=0:b=0)\n",
    "\n",
    "# INPUTS\n",
    "in_file = '../inputs/input.mp4'\n",
    "out_file = '../outputs/output.mp4'\n",
    "\n",
    "# PROCESS\n",
    "try:\n",
    "    (\n",
    "        ffmpeg\n",
    "        .input(in_file)\n",
    "        .output(out_file, filter_complex='hflip,hue=b=5:s=-10')\n",
    "        .run(overwrite_output=True, cmd='ffmpeg.exe', capture_stdout=True, capture_stderr=True)\n",
    "    )\n",
    "except ffmpeg.Error as e:\n",
    "    print('stdout:', e.stdout.decode('utf8'))\n",
    "    print('stderr:', e.stderr.decode('utf8'))"
   ]
  },
  {
   "attachments": {},
   "cell_type": "markdown",
   "id": "928e59f7",
   "metadata": {},
   "source": [
    "#### HUE"
   ]
  },
  {
   "cell_type": "code",
   "execution_count": null,
   "id": "255c460e",
   "metadata": {},
   "outputs": [],
   "source": [
    "import ffmpeg\n",
    "\n",
    "# INPUTS\n",
    "in_file = '.../inputs/input.mp4'\n",
    "out_file = '../outputs/output.mp4'\n",
    "\n",
    "# PROCESS\n",
    "try:\n",
    "    (\n",
    "        ffmpeg\n",
    "        .input(in_file)\n",
    "        .output(out_file, filter_complex=f'hue=s=-10,hflip')\n",
    "        .run(overwrite_output=True, cmd='ffmpeg.exe', capture_stdout=True, capture_stderr=True)\n",
    "    )\n",
    "except ffmpeg.Error as e:\n",
    "    print('stdout:', e.stdout.decode('utf8'))\n",
    "    print('stderr:', e.stderr.decode('utf8'))"
   ]
  },
  {
   "attachments": {},
   "cell_type": "markdown",
   "id": "491bf478",
   "metadata": {},
   "source": [
    "#### DRAW TEXT/WATERMARK"
   ]
  },
  {
   "cell_type": "code",
   "execution_count": null,
   "id": "aaf611b4",
   "metadata": {},
   "outputs": [],
   "source": [
    "import ffmpeg\n",
    "\n",
    "# EXAMPLE\n",
    "# draw text (drawtext=text=Insert Here:x=0:y=0) # draws text on the video based on x & y coordinate\n",
    "\n",
    "# INPUTS\n",
    "in_file = '.../inputs/input.mp4'\n",
    "out_file = '../outputs/output.mp4'\n",
    "text = 'Insert Here'\n",
    "x = '0'\n",
    "y = '0'\n",
    "\n",
    "# PROCESS\n",
    "try:\n",
    "    (\n",
    "        ffmpeg\n",
    "        .input(in_file)\n",
    "        .output(out_file, filter_complex=f'drawtext=text={text}:x={x}:y={y}')\n",
    "        .run(overwrite_output=True, cmd='ffmpeg.exe', capture_stdout=True, capture_stderr=True)\n",
    "    )\n",
    "except ffmpeg.Error as e:\n",
    "    print('stdout:', e.stdout.decode('utf8'))\n",
    "    print('stderr:', e.stderr.decode('utf8'))"
   ]
  },
  {
   "attachments": {},
   "cell_type": "markdown",
   "id": "1e0e2ff3",
   "metadata": {},
   "source": [
    "# IMAGE CONVERTER SAMPLE IMPLEMENTATION"
   ]
  },
  {
   "cell_type": "code",
   "execution_count": null,
   "id": "911fedbc",
   "metadata": {},
   "outputs": [],
   "source": [
    "from PIL import Image\n",
    "\n",
    "def open_file(filename, old_extension):\n",
    "    return Image.open(f'../inputs/{filename}.{old_extension}')\n",
    "\n",
    "def save_file(img, filename, new_extension):\n",
    "    if new_extension == 'png':\n",
    "        img.save(f'../outputs/{filename}.png', 'png')\n",
    "\n",
    "    elif new_extension == 'jpg':\n",
    "        img.save(f'../outputs/{filename}.jpg', 'jpeg')\n",
    "\n",
    "    elif new_extension == 'ico':\n",
    "        defined_size = input('Input tuple size: ').split(', ')\n",
    "        defined_size = tuple([int(x) for x in defined_size])\n",
    "        img.save(f'../outputs/{filename}.ico', sizes=[defined_size])\n",
    "\n",
    "    elif new_extension == 'webp':\n",
    "        img.save(f'../outputs/{filename}.webp', 'webp', lossless=True, quality=100, method=6)\n",
    "\n",
    "    elif new_extension == 'pdf':\n",
    "        img.save(f'../outputs/{filename}.pdf', 'pdf')\n",
    "\n",
    "    print(f'Filename {filename}.{img.format.lower()} saved as {filename}.{new_extension}')\n",
    "\n",
    "def image_convert_module():\n",
    "    print('Image Converter Application')\n",
    "    print('Available file formats:')\n",
    "    print('Reading (png, jpg, bmp)')\n",
    "    print('Saving (png, jpg, ico, webp, pdf)')  \n",
    "\n",
    "    filename, old_extension, new_extension = input('Input filename and extension (ex. \"file, png, jpeg\"): ').split(', ')\n",
    "    img = open_file(filename, old_extension)\n",
    "    save_file(img, filename, new_extension)"
   ]
  },
  {
   "cell_type": "code",
   "execution_count": null,
   "id": "c3483ce0",
   "metadata": {},
   "outputs": [],
   "source": [
    "image_convert_module()"
   ]
  }
 ],
 "metadata": {
  "kernelspec": {
   "display_name": "mppenv",
   "language": "python",
   "name": "python3"
  },
  "language_info": {
   "codemirror_mode": {
    "name": "ipython",
    "version": 3
   },
   "file_extension": ".py",
   "mimetype": "text/x-python",
   "name": "python",
   "nbconvert_exporter": "python",
   "pygments_lexer": "ipython3",
   "version": "3.9.13"
  },
  "vscode": {
   "interpreter": {
    "hash": "a824ebd2da3982be4f73d372c2a42e848284f9b0de3d981384c9376f72c3689c"
   }
  }
 },
 "nbformat": 4,
 "nbformat_minor": 5
}

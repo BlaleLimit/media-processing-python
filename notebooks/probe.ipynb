{
 "cells": [
  {
   "attachments": {},
   "cell_type": "markdown",
   "metadata": {},
   "source": [
    "## FFPROBE"
   ]
  },
  {
   "cell_type": "code",
   "execution_count": 112,
   "metadata": {},
   "outputs": [],
   "source": [
    "import ffmpeg\n",
    "import sys\n",
    "from os.path import isfile\n",
    "\n",
    "\n",
    "# Checks if the path is a file\n",
    "def is_file(path):\n",
    "    return isfile(path)\n",
    "\n",
    "\n",
    "# Probes file\n",
    "class Probe:\n",
    "    def __init__(self, in_file):\n",
    "        self.in_file = in_file\n",
    "        self._dimensions = None\n",
    "        self._width = None\n",
    "        self._height = None\n",
    "\n",
    "\n",
    "    @property\n",
    "    def dimensions(self):\n",
    "        if isfile(self.in_file):\n",
    "            try:\n",
    "                probed = ffmpeg.probe(self.in_file)\n",
    "                for stream in probed['streams']:\n",
    "                    if 'width' and 'height' in stream:\n",
    "                        return (stream['width'], stream['height'])\n",
    "                return (None, None)\n",
    "            except ffmpeg.Error:\n",
    "                sys.stdout.write('FFmpeg error, perhaps the file cannot be found or the input is not valid\\n')\n",
    "                sys.exit(1)\n",
    "        else:\n",
    "            sys.stdout.write('Perhaps the file cannot be found\\n')\n",
    "\n",
    "\n",
    "    @property\n",
    "    def width(self):\n",
    "        return self.dimensions[0]\n",
    "    \n",
    "\n",
    "    @property\n",
    "    def height(self):\n",
    "        return self.dimensions[1]\n",
    "    \n",
    "    \n",
    "    def probe_streams(self):\n",
    "        if isfile(self.in_file):\n",
    "            try:\n",
    "                probed = ffmpeg.probe(self.in_file)\n",
    "                n_streams = len(probed['streams'])\n",
    "                print(n_streams, 'codecs found')\n",
    "                for x in range(n_streams):\n",
    "                    print(f\"\\n{probed['streams'][x]['codec_type']} codec\")\n",
    "                    print(probed['streams'][x])\n",
    "            except ffmpeg.Error:\n",
    "                sys.stdout.write('FFmpeg error, perhaps the file cannot be found or the input is not valid\\n')\n",
    "                sys.exit(1)\n",
    "        else:\n",
    "            sys.stdout.write('Perhaps the file cannot be found\\n')"
   ]
  },
  {
   "cell_type": "code",
   "execution_count": 118,
   "metadata": {},
   "outputs": [
    {
     "data": {
      "text/plain": [
       "(1920, 1080)"
      ]
     },
     "execution_count": 118,
     "metadata": {},
     "output_type": "execute_result"
    }
   ],
   "source": [
    "Probe('inputs.mp4').dimensions"
   ]
  }
 ],
 "metadata": {
  "kernelspec": {
   "display_name": "mppenv",
   "language": "python",
   "name": "python3"
  },
  "language_info": {
   "codemirror_mode": {
    "name": "ipython",
    "version": 3
   },
   "file_extension": ".py",
   "mimetype": "text/x-python",
   "name": "python",
   "nbconvert_exporter": "python",
   "pygments_lexer": "ipython3",
   "version": "3.9.13"
  },
  "orig_nbformat": 4,
  "vscode": {
   "interpreter": {
    "hash": "a824ebd2da3982be4f73d372c2a42e848284f9b0de3d981384c9376f72c3689c"
   }
  }
 },
 "nbformat": 4,
 "nbformat_minor": 2
}
